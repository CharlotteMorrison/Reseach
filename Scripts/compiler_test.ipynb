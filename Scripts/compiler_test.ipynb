{
 "cells": [
  {
   "cell_type": "code",
   "execution_count": 2,
   "metadata": {},
   "outputs": [
    {
     "name": "stdout",
     "output_type": "stream",
     "text": [
      "<PyHKEY:0x00000000000004DC>\n"
     ]
    }
   ],
   "source": [
    "import winreg\n",
    "key = winreg.OpenKeyEx(\n",
    "            winreg.HKEY_LOCAL_MACHINE,\n",
    "            r\"Software\\Microsoft\\VisualStudio\\SxS\\VC7\",\n",
    "            access=winreg.KEY_READ | winreg.KEY_WOW64_32KEY\n",
    "        )\n",
    "print(key)"
   ]
  },
  {
   "cell_type": "code",
   "execution_count": 4,
   "metadata": {},
   "outputs": [
    {
     "name": "stdout",
     "output_type": "stream",
     "text": [
      "C:\\Program Files (x86)\n"
     ]
    }
   ],
   "source": [
    "import os\n",
    "root = os.environ.get(\"ProgramFiles(x86)\") or os.environ.get(\"ProgramFiles\")\n",
    "print(root)"
   ]
  },
  {
   "cell_type": "code",
   "execution_count": 8,
   "metadata": {},
   "outputs": [
    {
     "name": "stdout",
     "output_type": "stream",
     "text": [
      "C:\\Program Files (x86)\\Microsoft Visual Studio\\2019\\BuildTools\n"
     ]
    }
   ],
   "source": [
    "import subprocess\n",
    "path = subprocess.check_output([\n",
    "            os.path.join(root, \"Microsoft Visual Studio\", \"Installer\", \"vswhere.exe\"),\n",
    "            \"-latest\",\n",
    "            \"-prerelease\",\n",
    "            \"-requires\", \"Microsoft.VisualStudio.Component.VC.Tools.x86.x64\",\n",
    "            \"-property\", \"installationPath\",\n",
    "            \"-products\", \"*\",\n",
    "        ], encoding=\"mbcs\", errors=\"strict\").strip()\n",
    "print(path)"
   ]
  },
  {
   "cell_type": "code",
   "execution_count": 9,
   "metadata": {},
   "outputs": [
    {
     "name": "stdout",
     "output_type": "stream",
     "text": [
      "C:\\Program Files (x86)\\Microsoft Visual Studio\\2019\\BuildTools\\VC\\Auxiliary\\Build\n"
     ]
    }
   ],
   "source": [
    "path = os.path.join(path, \"VC\", \"Auxiliary\", \"Build\")\n",
    "print(path)"
   ]
  },
  {
   "cell_type": "code",
   "execution_count": 11,
   "metadata": {},
   "outputs": [
    {
     "name": "stdout",
     "output_type": "stream",
     "text": [
      "C:\\Program Files (x86)\\Microsoft Visual Studio\\2019\\BuildTools\\VC\\Auxiliary\\Build\n"
     ]
    }
   ],
   "source": [
    "if os.path.isdir(path):\n",
    "    print(path)\n",
    "else:\n",
    "    print('no match')\n"
   ]
  },
  {
   "cell_type": "code",
   "execution_count": 28,
   "metadata": {},
   "outputs": [
    {
     "name": "stdout",
     "output_type": "stream",
     "text": [
      "win-amd64\n",
      "x86_amd64\n",
      "x64\n",
      "C:\\Program Files (x86)\\Microsoft Visual Studio\\2019\\BuildTools\\VC\\Auxiliary\\Build\\..\\..\\redist\\MSVC\\**\\Microsoft.VC141.CRT\\vcruntime140.dll\n",
      "C:\\Program Files (x86)\\Microsoft Visual Studio\\2019\\BuildTools\\VC\\Tools\\MSVC\f",
      ".21.27702\bin\\Hostx86\\x64\\vcruntime140.dll\n"
     ]
    }
   ],
   "source": [
    "from distutils.util import get_platform\n",
    "plat_name = get_platform()\n",
    "print(plat_name)\n",
    "PLAT_TO_VCVARS = {\n",
    "    'win32' : 'x86',\n",
    "    'win-amd64' : 'x86_amd64',\n",
    "}\n",
    "plat_spec = PLAT_TO_VCVARS[plat_name]\n",
    "print(plat_spec)\n",
    "best_dir = path\n",
    "vcruntime = None\n",
    "vcruntime_plat = 'x64' if 'amd64' in plat_spec else 'x86'\n",
    "print (vcruntime_plat)\n",
    "if best_dir:\n",
    "    vcredist = os.path.join(best_dir, \"..\", \"..\", \"redist\", \"MSVC\", \"**\",\n",
    "        \"Microsoft.VC141.CRT\", \"vcruntime140.dll\")\n",
    "    print(vcredist)\n",
    "    try:\n",
    "        import glob\n",
    "        vcruntime = glob.glob(vcredist, recursive=True)[-1]\n",
    "    except (ImportError, OSError, LookupError):\n",
    "        vcruntime = \"C:\\Program Files (x86)\\\\Microsoft Visual Studio\\\\2019\\BuildTools\\VC\\Tools\\MSVC\\14.21.27702\\bin\\Hostx64\\\\x64\\\\vcruntime140.dll\"\n",
    "print(vcruntime)"
   ]
  },
  {
   "cell_type": "code",
   "execution_count": 34,
   "metadata": {},
   "outputs": [
    {
     "name": "stdout",
     "output_type": "stream",
     "text": [
      "[]\n"
     ]
    }
   ],
   "source": [
    "import glob\n",
    "vcredist =\"C:\\Program Files (x86)\\Microsoft Visual Studio\\2019\\BuildTools\\VC\\Tools\\MSVC\\21.2770in\\Hostx86\\x64\\vcruntime140.dll\"\n",
    "vcruntime = glob.glob(vcredist, recursive=True)\n",
    "print(vcruntime)"
   ]
  },
  {
   "cell_type": "code",
   "execution_count": null,
   "metadata": {},
   "outputs": [],
   "source": []
  }
 ],
 "metadata": {
  "kernelspec": {
   "display_name": "Python [conda env:root] *",
   "language": "python",
   "name": "conda-root-py"
  },
  "language_info": {
   "codemirror_mode": {
    "name": "ipython",
    "version": 3
   },
   "file_extension": ".py",
   "mimetype": "text/x-python",
   "name": "python",
   "nbconvert_exporter": "python",
   "pygments_lexer": "ipython3",
   "version": "3.7.3"
  }
 },
 "nbformat": 4,
 "nbformat_minor": 2
}
