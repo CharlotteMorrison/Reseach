{
 "cells": [
  {
   "cell_type": "markdown",
   "metadata": {},
   "source": [
    "## Environment Installation Notes\n",
    "\n",
    "_(additional dependencies required)_\n",
    "\n",
    "***\n",
    "### Gym Installation- Windows\n",
    "***\n",
    "`pip3 install gym\n",
    "conda install pystan\n",
    "conda install git\n",
    "pip install --no-index -f https://github.com/Kojoley/atari-py/releases atari_py`\n",
    "#### or\n",
    "`pip install git+https://github.com/Kojoley/atari-py.git\n",
    "conda install swig\n",
    "pip install Box2D`\n",
    "\n",
    "#### Alternative installation for Box2D\n",
    "\n",
    "`git clone https://github.com/pybox2d/pybox2d`\n",
    "\n",
    "install MinGW and then MSYS so that you can compile Box2D and pybox2d\n",
    "Run MSYS and locate your pybox2d directory\n",
    "\n",
    "cd /c/path/to/pybox2d\n",
    "Build and install pybox2d\n",
    "\n",
    "`python setup.py build\n",
    "python setup.py install`\n",
    "\n",
    "`pip install gym[all]\n",
    "pip install pyglet==1.2.4\n",
    "pip install gym[box2d]`\n",
    "\n",
    "install xming\n",
    "https://sourceforge.net/projects/xming/\n",
    "***\n",
    "### Mujoco Installation- Windows \n",
    "***\n",
    "`git clone git@github.com:openai/mujoco-py.git\n",
    "cd mujoco-py`\n",
    "\n",
    "`python -m pip install --upgrade setuptools`\n",
    "\n",
    "`pip install -r requirements.txt\n",
    "pip install -r requirements.dev.txt`\n",
    "\n",
    "`python setup.py install`\n",
    "\n",
    "Add to path variable "
   ]
  }
 ],
 "metadata": {
  "kernelspec": {
   "display_name": "Python 3",
   "language": "python",
   "name": "python3"
  },
  "language_info": {
   "codemirror_mode": {
    "name": "ipython",
    "version": 3
   },
   "file_extension": ".py",
   "mimetype": "text/x-python",
   "name": "python",
   "nbconvert_exporter": "python",
   "pygments_lexer": "ipython3",
   "version": "3.6.8"
  }
 },
 "nbformat": 4,
 "nbformat_minor": 2
}
